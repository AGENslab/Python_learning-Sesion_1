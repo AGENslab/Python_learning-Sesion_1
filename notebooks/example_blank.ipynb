{
 "cells": [
  {
   "cell_type": "markdown",
   "id": "b2d56444",
   "metadata": {},
   "source": [
    "[![Open In Colab](https://colab.research.google.com/assets/colab-badge.svg)](\n",
    "https://colab.research.google.com/github/AGENslab/Python_learning-Sesion_1/blob/main/notebooks/example_blank.ipynb\n",
    ")"
   ]
  },
  {
   "cell_type": "markdown",
   "id": "34ed218c",
   "metadata": {},
   "source": [
    "# 🧪 Sesión 1 – Fundamentos de Python para Ciencias Biológicas\n",
    "\n",
    "**22/08/2025 – Dra. Carol Moraga e Ing. Felipe Gómez**\n",
    "\n",
    "Bienvenid@. En este notebook practicaremos:\n",
    "- Sintaxis básica de Python\n",
    "- Estructuras de datos\n",
    "- Control de flujo y funciones\n",
    "- Lectura de un FASTA, GC% y k-mers"
   ]
  },
  {
   "cell_type": "markdown",
   "id": "92451cc1",
   "metadata": {},
   "source": [
    "## 📁 Configuración mínima\n",
    "\n",
    "Si corres en **Colab**, ejecuta la celda de abajo para subir el archivo `data/ejemplo.fasta` desde tu equipo (o monta Drive)."
   ]
  },
  {
   "cell_type": "code",
   "execution_count": null,
   "id": "82ce1a7c",
   "metadata": {},
   "outputs": [],
   "source": [
    "# En Colab, descomenta para subir archivos manualmente\n",
    "# !wget https://raw.githubusercontent.com/AGENslab/Python_learning-Sesion_1/refs/heads/main/data/ejemplo.fasta"
   ]
  },
  {
   "cell_type": "markdown",
   "id": "5a5db6cc",
   "metadata": {},
   "source": [
    "## 🔤 Sintaxis básica: variables y tipos"
   ]
  },
  {
   "cell_type": "code",
   "execution_count": null,
   "id": "ac563bcc",
   "metadata": {},
   "outputs": [],
   "source": [
    "entero = 42\n",
    "pi = 3.14159\n",
    "mensaje = \"Hola bio-mundo\"\n",
    "es_valido = True\n",
    "\n",
    "print(type(entero), type(pi), type(mensaje), type(es_valido))\n",
    "assert isinstance(entero, int)\n",
    "assert isinstance(mensaje, str)"
   ]
  },
  {
   "cell_type": "markdown",
   "id": "dc0a2e45",
   "metadata": {},
   "source": [
    "## 🧱 Estructuras de datos: listas y diccionarios"
   ]
  },
  {
   "cell_type": "code",
   "execution_count": null,
   "id": "ceae9182",
   "metadata": {},
   "outputs": [],
   "source": [
    "# Lista de longitudes de secuencias (ficticias)\n",
    "longitudes = [120, 98, 301, 250]\n",
    "# Diccionario: id -> especie\n",
    "metadatos = {\"seq1\": \"E. coli\", \"seq2\": \"A. thaliana\"}\n",
    "\n",
    "# Operaciones básicas\n",
    "longitudes.append(180)\n",
    "promedio = sum(longitudes) / len(longitudes)\n",
    "\n",
    "print(\"N:\", len(longitudes), \"Promedio:\", round(promedio, 2))\n",
    "print(\"Especies:\", list(metadatos.values()))\n",
    "\n",
    "assert len(longitudes) == 5\n",
    "assert \"seq1\" in metadatos"
   ]
  },
  {
   "cell_type": "markdown",
   "id": "b544d89f",
   "metadata": {},
   "source": [
    "## 🔁 Control de flujo: `if`, `for`"
   ]
  },
  {
   "cell_type": "code",
   "execution_count": null,
   "id": "2559c5a6",
   "metadata": {},
   "outputs": [],
   "source": [
    "# Clasifica longitudes en cortas/medias/largas\n",
    "clasificacion = []\n",
    "for L in longitudes:\n",
    "    if L < 120:\n",
    "        clasificacion.append(\"corta\")\n",
    "    elif L <= 250:\n",
    "        clasificacion.append(\"media\")\n",
    "    else:\n",
    "        clasificacion.append(\"larga\")\n",
    "\n",
    "clasificacion"
   ]
  },
  {
   "cell_type": "markdown",
   "id": "42722b3b",
   "metadata": {},
   "source": [
    "## 🧩 Funciones"
   ]
  },
  {
   "cell_type": "code",
   "execution_count": null,
   "id": "c5c149cf",
   "metadata": {},
   "outputs": [],
   "source": [
    "# TODO: Implementa la función es_base(b)\n",
    "def es_base(b):\n",
    "    pass\n",
    "\n",
    "assert es_base(\"A\") and not es_base(\"N\")"
   ]
  },
  {
   "cell_type": "markdown",
   "id": "f9c450f8",
   "metadata": {},
   "source": [
    "## 📄 Lectura de FASTA (sin librerías externas)\n",
    "\n",
    "Implementaremos una función mínima que lea un archivo FASTA simple y retorne un diccionario `id -> secuencia`."
   ]
  },
  {
   "cell_type": "code",
   "execution_count": null,
   "id": "6bc10221",
   "metadata": {},
   "outputs": [],
   "source": [
    "# TODO: Implementa la función leer_fasta(path)\n",
    "def leer_fasta(path):\n",
    "    pass\n",
    "\n",
    "# Prueba rápida: debería cargar data/ejemplo.fasta"
   ]
  },
  {
   "cell_type": "markdown",
   "id": "3d145752",
   "metadata": {},
   "source": [
    "## 🧮 GC% por secuencia y global\n",
    "\n",
    "Escribe una función `gc_percent(seq)` que retorne el porcentaje de G y C sobre A/C/G/T (ignora otras letras)."
   ]
  },
  {
   "cell_type": "code",
   "execution_count": null,
   "id": "53600e12",
   "metadata": {},
   "outputs": [],
   "source": [
    "# TODO: Implementa la función gc_percent(seq)\n",
    "def gc_percent(seq):\n",
    "    pass\n",
    "\n",
    "# Prueba rápida\n",
    "assert abs(gc_percent(\"GCGC\") - 100.0) < 1e-6"
   ]
  },
  {
   "cell_type": "code",
   "execution_count": null,
   "id": "0fbba08a",
   "metadata": {},
   "outputs": [],
   "source": [
    "# Si cargaste 'seqs', calcula GC% por id y el global\n",
    "if 'seqs' in globals():\n",
    "    gc_por_id = {sid: gc_percent(s) for sid, s in seqs.items()}\n",
    "    gc_global = sum(gc_por_id.values()) / len(gc_por_id) if gc_por_id else 0.0\n",
    "    print(\"GC% global:\", round(gc_global, 2))\n",
    "    list(gc_por_id.items())[:5]"
   ]
  },
  {
   "cell_type": "markdown",
   "id": "86f2085b",
   "metadata": {},
   "source": [
    "## 🔢 Conteo de k-mers\n",
    "\n",
    "Implementa `contar_kmers(seq, k)` que retorne un diccionario con la frecuencia de cada k-mer (sólo A/C/G/T). Luego crea un *ranking* de los más frecuentes."
   ]
  },
  {
   "cell_type": "code",
   "execution_count": null,
   "id": "0bfd5815",
   "metadata": {},
   "outputs": [],
   "source": [
    "# TODO: Implementa la función contar_kmers(seq, k)\n",
    "def contar_kmers(seq, k=3):\n",
    "    pass\n",
    "\n",
    "# Prueba rápida\n",
    "d = contar_kmers(\"AAACAAA\", k=3)\n",
    "assert d.get(\"AAA\", 0) == 3"
   ]
  },
  {
   "cell_type": "code",
   "execution_count": null,
   "id": "b3bdf5e7",
   "metadata": {},
   "outputs": [],
   "source": [
    "# Ranking de k-mers por secuencia y top global\n",
    "def top_kmers_de_seqs(seqs, k=3, top=10):\n",
    "    total = Counter()\n",
    "    por_id = {}\n",
    "    for sid, s in seqs.items():\n",
    "        c = Counter(contar_kmers(s, k))\n",
    "        por_id[sid] = c.most_common(top)\n",
    "        total.update(c)\n",
    "    return por_id, total.most_common(top)\n",
    "\n",
    "if 'seqs' in globals():\n",
    "    por_id, top_global = top_kmers_de_seqs(seqs, k=3, top=10)\n",
    "    print(\"Top global (k=3):\", top_global[:5])\n",
    "    # Muestra top 5 del primer id\n",
    "    first = next(iter(seqs)) if seqs else None\n",
    "    if first:\n",
    "        print(\"Top 5 de\", first, por_id[first][:5])"
   ]
  },
  {
   "cell_type": "markdown",
   "id": "a23e1c7d",
   "metadata": {},
   "source": [
    "## ✅ Cierre\n",
    "- Practicaste variables, estructuras y funciones en Python.\n",
    "- Leíste un FASTA simple y calculaste **GC%**.\n",
    "- Implementaste un contador de **k-mers** con ranking.\n",
    "\n",
    "**Desafíos opcionales:**\n",
    "1. Generaliza `gc_percent` para devolver también el conteo de cada base.\n",
    "2. Escribe una versión de `contar_kmers` que acepte alfabetos ambiguos (ej. `N`).\n",
    "3. Grafica el top-10 de k-mers con `matplotlib`."
   ]
  }
 ],
 "metadata": {
  "language_info": {
   "name": "python"
  }
 },
 "nbformat": 4,
 "nbformat_minor": 5
}
