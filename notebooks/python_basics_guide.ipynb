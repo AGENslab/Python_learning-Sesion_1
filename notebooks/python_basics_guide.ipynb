{
 "cells": [
  {
   "cell_type": "markdown",
   "id": "dc895461",
   "metadata": {},
   "source": [
    "[![Open In Colab](https://colab.research.google.com/assets/colab-badge.svg)](\n",
    "https://colab.research.google.com/github/AGENslab/Python_learning-Sesion_1/blob/main/notebooks/python_basics_guide.ipynb\n",
    ")"
   ]
  },
  {
   "cell_type": "markdown",
   "id": "023f3a8f",
   "metadata": {},
   "source": [
    "# 🐍 Guía rápida de Python básico para biólogos\n",
    "\n",
    "Este cuaderno es un *cheat‑sheet* práctico con ejemplos y pequeños trucos. Está pensado para acompañar la **Sesión 1** y servir de referencia.\n"
   ]
  },
  {
   "cell_type": "markdown",
   "id": "5f5cc839",
   "metadata": {},
   "source": [
    "## Cómo usar este cuaderno\n",
    "- Ejecuta cada celda con **Shift+Enter**.\n",
    "- Modifica ejemplos y vuelve a ejecutar para experimentar.\n"
   ]
  },
  {
   "cell_type": "markdown",
   "id": "cc638158",
   "metadata": {},
   "source": [
    "## Tipos básicos y literales"
   ]
  },
  {
   "cell_type": "code",
   "execution_count": null,
   "id": "e874a308",
   "metadata": {},
   "outputs": [],
   "source": [
    "entero = 7              # int\n",
    "flotante = 3.14         # float\n",
    "texto = 'ADN'           # str (string)\n",
    "booleano = True         # bool\n",
    "nada = None             # ausencia de valor\n",
    "\n",
    "type(entero), type(flotante), type(texto), type(booleano), type(nada)"
   ]
  },
  {
   "cell_type": "markdown",
   "id": "0afbeb73",
   "metadata": {},
   "source": [
    "### Operadores numéricos útiles"
   ]
  },
  {
   "cell_type": "code",
   "execution_count": null,
   "id": "d4093172",
   "metadata": {},
   "outputs": [],
   "source": [
    "a, b = 10, 3\n",
    "resultado = {\n",
    "    'suma': a + b,\n",
    "    'resta': a - b,\n",
    "    'mult': a * b,\n",
    "    'division': a / b,     # float\n",
    "    'division_enteros': a // b,\n",
    "    'modulo': a % b,\n",
    "    'potencia': a ** b,\n",
    "    'abs(-5)': abs(-5),\n",
    "    'round(3.14159, 2)': round(3.14159, 2),\n",
    "}\n",
    "resultado"
   ]
  },
  {
   "cell_type": "markdown",
   "id": "ba385f6b",
   "metadata": {},
   "source": [
    "## Cadenas (str): slicing y métodos comunes"
   ]
  },
  {
   "cell_type": "code",
   "execution_count": null,
   "id": "e7a0c57c",
   "metadata": {},
   "outputs": [],
   "source": [
    "s = 'aCtgaT NNN'\n",
    "demo = {\n",
    "    'len': len(s),\n",
    "    'upper': s.upper(),\n",
    "    'lower': s.lower(),\n",
    "    'strip': s.strip(),\n",
    "    'replace N->': s.replace('N', ''),\n",
    "    'split': s.split(),     # por espacios\n",
    "    'join': '-'.join(['A','C','G','T']),\n",
    "    'slice 0:5': s[0:5],\n",
    "    'slice ::-1 (reverse)': s[::-1],\n",
    "    'find GA': s.find('GA'),\n",
    "    'count A': s.upper().count('A'),\n",
    "}\n",
    "demo"
   ]
  },
  {
   "cell_type": "markdown",
   "id": "32f8ee6e",
   "metadata": {},
   "source": [
    "### f-strings (formateo moderno)"
   ]
  },
  {
   "cell_type": "code",
   "execution_count": null,
   "id": "8689218a",
   "metadata": {},
   "outputs": [],
   "source": [
    "nombre = 'BRCA1'; gc = 53.2345\n",
    "f\"Gen {nombre}: GC%={gc:.1f}\""
   ]
  },
  {
   "cell_type": "markdown",
   "id": "94deee6d",
   "metadata": {},
   "source": [
    "## Estructuras de datos"
   ]
  },
  {
   "cell_type": "code",
   "execution_count": null,
   "id": "7f3131a8",
   "metadata": {},
   "outputs": [],
   "source": [
    "lista = [3, 1, 2, 2]\n",
    "tupla = (3, 1, 2)\n",
    "conjunto = set(lista)            # elimina duplicados\n",
    "dic = {'seq1': 'ATGC', 'seq2': 'GGG'}\n",
    "\n",
    "ops = {\n",
    "    'lista_sorted': sorted(lista),\n",
    "    'set_union': {1,2}|{2,3},\n",
    "    'set_intersection': {1,2}&{2,3},\n",
    "    'dic_keys': list(dic.keys()),\n",
    "    'dic_get_seq3_default': dic.get('seq3', 'NA'),\n",
    "}\n",
    "ops"
   ]
  },
  {
   "cell_type": "markdown",
   "id": "66eada94",
   "metadata": {},
   "source": [
    "### Mutabilidad y copias"
   ]
  },
  {
   "cell_type": "code",
   "execution_count": null,
   "id": "0a45f726",
   "metadata": {},
   "outputs": [],
   "source": [
    "a = [1, 2, 3]\n",
    "b = a              # misma lista (alias)\n",
    "c = a.copy()       # copia superficial\n",
    "a.append(99)\n",
    "{'b_ve': b, 'c_ve': c}"
   ]
  },
  {
   "cell_type": "markdown",
   "id": "9161fc5b",
   "metadata": {},
   "source": [
    "### Verdaderos/falsos implícitos, `==` vs `is`"
   ]
  },
  {
   "cell_type": "code",
   "execution_count": null,
   "id": "456d89c3",
   "metadata": {},
   "outputs": [],
   "source": [
    "valores = [0, 1, '', 'A', [], [1], None]\n",
    "[bool(v) for v in valores], (None == None), (None is None)"
   ]
  },
  {
   "cell_type": "markdown",
   "id": "c2d8a339",
   "metadata": {},
   "source": [
    "## Control de flujo"
   ]
  },
  {
   "cell_type": "code",
   "execution_count": null,
   "id": "0d7baf9e",
   "metadata": {},
   "outputs": [],
   "source": [
    "n = 5\n",
    "if n % 2 == 0:\n",
    "    etiqueta = 'par'\n",
    "else:\n",
    "    etiqueta = 'impar'\n",
    "\n",
    "nums = []\n",
    "for i in range(1, 6):\n",
    "    nums.append(i*i)\n",
    "\n",
    "while len(nums) < 7:\n",
    "    nums.append(0)\n",
    "\n",
    "etiqueta, nums"
   ]
  },
  {
   "cell_type": "markdown",
   "id": "b47bec15",
   "metadata": {},
   "source": [
    "### List/dict/set comprehensions, `enumerate`, `zip`"
   ]
  },
  {
   "cell_type": "code",
   "execution_count": null,
   "id": "d8a5e489",
   "metadata": {},
   "outputs": [],
   "source": [
    "seqs = {'s1':'ATGC', 's2':'AAA', 's3':'CC'}\n",
    "longitudes = {k: len(v) for k, v in seqs.items()}\n",
    "pares = [(i, b) for i, b in enumerate('ACGT', start=1)]\n",
    "mezcla = list(zip('ACGT', [1,2,3,4]))\n",
    "longitudes, pares, mezcla"
   ]
  },
  {
   "cell_type": "markdown",
   "id": "5a98bde6",
   "metadata": {},
   "source": [
    "## Funciones: parámetros, valores por defecto, `*args`, `**kwargs`"
   ]
  },
  {
   "cell_type": "code",
   "execution_count": null,
   "id": "5bd6dbcf",
   "metadata": {},
   "outputs": [],
   "source": [
    "def gc_percent(seq: str, ignore='N') -> float:\n",
    "    \"\"\"Calcula GC% ignorando símbolos en `ignore`.\"\"\"\n",
    "    seq = ''.join(b for b in seq.upper() if b in 'ACGT' and b not in ignore)\n",
    "    if not seq:\n",
    "        return 0.0\n",
    "    return 100.0 * (seq.count('G') + seq.count('C')) / len(seq)\n",
    "\n",
    "def demo_args(a, b=10, *args, scale=1.0, **kwargs):\n",
    "    return {'a': a, 'b': b, 'args': args, 'scale': scale, 'kwargs': kwargs}\n",
    "\n",
    "gc_percent('ACGTNNNN'), demo_args(1, 2, 3, 4, scale=0.5, x=99)"
   ]
  },
  {
   "cell_type": "markdown",
   "id": "c438c086",
   "metadata": {},
   "source": [
    "### ⚠️ Cuidado con valores por defecto **mutables**"
   ]
  },
  {
   "cell_type": "code",
   "execution_count": null,
   "id": "bad84d48",
   "metadata": {},
   "outputs": [],
   "source": [
    "def mala(lista=[]):           # ANTIPATRÓN\n",
    "    lista.append(1)\n",
    "    return lista\n",
    "\n",
    "def buena(lista=None):        # PATRÓN SEGURO\n",
    "    if lista is None:\n",
    "        lista = []\n",
    "    lista.append(1)\n",
    "    return lista\n",
    "\n",
    "mala(), mala(), buena(), buena([])"
   ]
  },
  {
   "cell_type": "markdown",
   "id": "8df6869d",
   "metadata": {},
   "source": [
    "### `lambda` y claves de ordenamiento"
   ]
  },
  {
   "cell_type": "code",
   "execution_count": null,
   "id": "b5c278af",
   "metadata": {},
   "outputs": [],
   "source": [
    "genes = ['BRCA1', 'tp53', 'APOE']\n",
    "orden = sorted(genes, key=lambda g: g.lower())\n",
    "orden"
   ]
  },
  {
   "cell_type": "markdown",
   "id": "4a7a7411",
   "metadata": {},
   "source": [
    "## Excepciones: `try/except`"
   ]
  },
  {
   "cell_type": "code",
   "execution_count": null,
   "id": "68c07a64",
   "metadata": {},
   "outputs": [],
   "source": [
    "def safe_int(x):\n",
    "    try:\n",
    "        return int(x)\n",
    "    except ValueError:\n",
    "        return None\n",
    "\n",
    "[safe_int(v) for v in ['10', 'NA', '3']]"
   ]
  },
  {
   "cell_type": "markdown",
   "id": "a2f03da8",
   "metadata": {},
   "source": [
    "## Archivos: lectura/escritura de texto"
   ]
  },
  {
   "cell_type": "code",
   "execution_count": null,
   "id": "dc619c35",
   "metadata": {},
   "outputs": [],
   "source": [
    "contenido = 'seq1\\tATGC\\nseq2\\tGGG\\n'\n",
    "with open('mini.tsv', 'w') as f:\n",
    "    f.write(contenido)\n",
    "\n",
    "rows = []\n",
    "with open('mini.tsv') as f:\n",
    "    for line in f:\n",
    "        sid, seq = line.strip().split('\\t')\n",
    "        rows.append((sid, seq))\n",
    "rows"
   ]
  },
  {
   "cell_type": "markdown",
   "id": "0263e83e",
   "metadata": {},
   "source": [
    "## Mini utilidades bio: complemento reverso"
   ]
  },
  {
   "cell_type": "code",
   "execution_count": null,
   "id": "aed0daa8",
   "metadata": {},
   "outputs": [],
   "source": [
    "comp = str.maketrans({'A':'T','T':'A','C':'G','G':'C'})\n",
    "def revcomp(seq):\n",
    "    s = ''.join(b for b in seq.upper() if b in 'ACGT')\n",
    "    return s.translate(comp)[::-1]\n",
    "\n",
    "revcomp('AaCgtN')"
   ]
  },
  {
   "cell_type": "markdown",
   "id": "aaaac677",
   "metadata": {},
   "source": [
    "### Buenas prácticas al iterar diccionarios"
   ]
  },
  {
   "cell_type": "code",
   "execution_count": null,
   "id": "7d01eec1",
   "metadata": {},
   "outputs": [],
   "source": [
    "d = {'a':1, 'b':2}\n",
    "# NO: modificar mientras iteras directamente sobre d\n",
    "# for k in d: d.pop(k)\n",
    "# SÍ: iterar sobre copia de las claves\n",
    "for k in list(d.keys()):\n",
    "    d[k] += 10\n",
    "d"
   ]
  },
  {
   "cell_type": "markdown",
   "id": "a8fd8cc2",
   "metadata": {},
   "source": [
    "## Mini ejercicios"
   ]
  },
  {
   "cell_type": "code",
   "execution_count": null,
   "id": "00a1183b",
   "metadata": {},
   "outputs": [],
   "source": [
    "# 1) Implementa contar_kmers(seq, k) ignorando símbolos no ACGT\n",
    "def contar_kmers(seq, k=3):\n",
    "    seq = ''.join(b for b in seq.upper() if b in 'ACGT')\n",
    "    counts = {}\n",
    "    for i in range(len(seq)-k+1):\n",
    "        kmer = seq[i:i+k]\n",
    "        counts[kmer] = counts.get(kmer, 0) + 1\n",
    "    return counts\n",
    "\n",
    "assert contar_kmers('AAACAAA', 3).get('AAA', 0) == 3\n",
    "\n",
    "# 2) Usa list-comprehension para obtener longitudes de varias secuencias\n",
    "seqs = ['AT', 'ATGC', 'G']\n",
    "longs = [len(s) for s in seqs]\n",
    "assert longs == [2,4,1]\n",
    "longs"
   ]
  },
  {
   "cell_type": "markdown",
   "id": "613781d8",
   "metadata": {},
   "source": [
    "## Cierre\n",
    "- Repasaste tipos, operadores y métodos útiles.\n",
    "- Viste estructuras, comprensiones y utilidades como `enumerate/zip`.\n",
    "- Definiste funciones con parámetros por defecto, `*args`, `**kwargs` y evitaste el antipatrón de mutables.\n",
    "- Manejo básico de excepciones y archivos.\n",
    "\n",
    "Siguiente paso sugerido: pasar estos snippets a problemas reales (FASTA, GC%, k‑mers, filtros por longitud, etc.)."
   ]
  }
 ],
 "metadata": {
  "language_info": {
   "name": "python"
  }
 },
 "nbformat": 4,
 "nbformat_minor": 5
}
