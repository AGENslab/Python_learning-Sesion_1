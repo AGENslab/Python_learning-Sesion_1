{
 "cells": [
  {
   "cell_type": "markdown",
   "id": "70e634e9",
   "metadata": {},
   "source": [
    "[![Open In Colab](https://colab.research.google.com/assets/colab-badge.svg)](https://colab.research.google.com/github/AGENslab/Python_learning-Sesion_1/blob/main/notebooks/basicos/example_basic_solved.ipynb)"
   ]
  },
  {
   "cell_type": "markdown",
   "id": "1ba7fb9e",
   "metadata": {},
   "source": [
    "# 🐍 Ejercicios básicos de Python\n",
    "Notebook con **15 ejercicios** sobre tipos de datos simples y compuestos, estructuras de control y funciones. Pensado para resolverse en ~45 minutos (≈3 min por ejercicio).\n",
    "\n",
    "**Reglas:**\n",
    "- Escribe tu solución en la celda de código bajo cada enunciado.\n",
    "- Puedes usar `print()` para verificar resultados.\n",
    "- Intenta no usar librerías externas salvo que se indique.\n",
    "## Contenidos\n",
    "1. Conversión de tipos\n",
    "2. Operaciones numéricas\n",
    "3. Cadenas (slicing y métodos)\n",
    "4. Booleanos y operadores lógicos\n",
    "5. Listas: operaciones básicas\n",
    "6. Tuplas vs. listas (desempaquetado e inmutabilidad)\n",
    "7. Conjuntos (sets)\n",
    "8. Diccionarios (conteo)\n",
    "9. Condicionales `if/elif/else`\n",
    "10. Bucles `for`\n",
    "11. Bucles `while`\n",
    "12. Comprensiones de listas\n",
    "13. Funciones (parámetros por defecto)\n",
    "14. Funciones con `*args`/`**kwargs`\n",
    "15. Manejo de errores con `try/except`\n"
   ]
  },
  {
   "cell_type": "markdown",
   "id": "c27c9c5f",
   "metadata": {},
   "source": [
    "## Ejercicio 1\n",
    "\n",
    "Convierte los siguientes strings a números y calcula la suma: `\"12\"`, `\"3.5\"`.\n",
    "\n",
    "Resultado esperado: **15.5** (tipo `float`)."
   ]
  },
  {
   "cell_type": "code",
   "execution_count": null,
   "id": "10fcf249",
   "metadata": {},
   "outputs": [],
   "source": [
    "# tu código aquí\n"
   ]
  },
  {
   "cell_type": "code",
   "execution_count": null,
   "id": "a130985b",
   "metadata": {},
   "outputs": [],
   "source": [
    "a = int(\"12\")\n",
    "b = float(\"3.5\")\n",
    "resultado = a + b\n",
    "print(resultado)"
   ]
  },
  {
   "cell_type": "markdown",
   "id": "aee8d591",
   "metadata": {},
   "source": [
    "## Ejercicio 2\n",
    "\n",
    "Dado `a = 7` y `b = 3`, calcula: suma, resta, multiplicación, división real, división entera,\n",
    "módulo y potencia. Guarda cada resultado en variables distintas y muéstralas."
   ]
  },
  {
   "cell_type": "code",
   "execution_count": null,
   "id": "ab19ba3d",
   "metadata": {},
   "outputs": [],
   "source": [
    "# tu código aquí\n"
   ]
  },
  {
   "cell_type": "code",
   "execution_count": null,
   "id": "eda087d6",
   "metadata": {},
   "outputs": [],
   "source": [
    "a, b = 7, 3\n",
    "suma = a + b\n",
    "resta = a - b\n",
    "mult = a * b\n",
    "div_real = a / b\n",
    "div_entera = a // b\n",
    "mod = a % b\n",
    "pot = a ** b\n",
    "print(suma, resta, mult, div_real, div_entera, mod, pot)"
   ]
  },
  {
   "cell_type": "markdown",
   "id": "9bdebe6e",
   "metadata": {},
   "source": [
    "## Ejercicio 3\n",
    "\n",
    "Para el string `s = \"Bioinformatica\"`:\n",
    "\n",
    "- Muestra los 4 primeros caracteres.\n",
    "\n",
    "- Muestra los 3 últimos.\n",
    "\n",
    "- Cuenta cuántas veces aparece la letra `'a'` (independiente de mayúsculas/minúsculas).\n",
    "\n",
    "- Devuelve `s` en **Title Case** (primera letra de cada palabra en mayúscula)."
   ]
  },
  {
   "cell_type": "code",
   "execution_count": null,
   "id": "5b1def36",
   "metadata": {},
   "outputs": [],
   "source": [
    "# tu código aquí\n"
   ]
  },
  {
   "cell_type": "code",
   "execution_count": null,
   "id": "940dd2ad",
   "metadata": {},
   "outputs": [],
   "source": [
    "s = 'Bioinformatica'\n",
    "print(s[:4])\n",
    "print(s[-3:])\n",
    "print(s.lower().count('a'))\n",
    "print(s.title())"
   ]
  },
  {
   "cell_type": "markdown",
   "id": "86e36947",
   "metadata": {},
   "source": [
    "## Ejercicio 4\n",
    "\n",
    "Evalúa las expresiones lógicas y guarda el resultado en variables: \n",
    "\n",
    "- `10 > 3 and 4 == 2 * 2`\n",
    "\n",
    "- `not (5 < 2 or 8 % 2 != 0)`\n",
    "\n",
    "- ¿Cuál es la diferencia entre `==` e `is`? Demuéstralo con un ejemplo corto."
   ]
  },
  {
   "cell_type": "code",
   "execution_count": null,
   "id": "40b949f7",
   "metadata": {},
   "outputs": [],
   "source": [
    "# tu código aquí\n"
   ]
  },
  {
   "cell_type": "code",
   "execution_count": null,
   "id": "06f30d8c",
   "metadata": {},
   "outputs": [],
   "source": [
    "expr1 = 10 > 3 and 4 == 2 * 2\n",
    "expr2 = not (5 < 2 or 8 % 2 != 0)\n",
    "print(expr1, expr2)\n",
    "# '==' compara valores, 'is' compara identidad de objetos\n",
    "x = [1,2,3]\n",
    "y = [1,2,3]\n",
    "print(x == y)  # True\n",
    "print(x is y)  # False"
   ]
  },
  {
   "cell_type": "markdown",
   "id": "515307c1",
   "metadata": {},
   "source": [
    "## Ejercicio 5\n",
    "\n",
    "Crea una lista con los números del 1 al 10. Elimina el primer elemento, agrega el número 99 al final,\n",
    "inserta el número 42 en la **posición 3** y muestra la lista resultante y su **longitud**."
   ]
  },
  {
   "cell_type": "code",
   "execution_count": null,
   "id": "cb877e9c",
   "metadata": {},
   "outputs": [],
   "source": [
    "# tu código aquí\n"
   ]
  },
  {
   "cell_type": "code",
   "execution_count": null,
   "id": "1d51035c",
   "metadata": {},
   "outputs": [],
   "source": [
    "L = list(range(1,11))\n",
    "L.pop(0)\n",
    "L.append(99)\n",
    "L.insert(2,42)\n",
    "print(L)\n",
    "print(len(L))"
   ]
  },
  {
   "cell_type": "markdown",
   "id": "2a5d2f0f",
   "metadata": {},
   "source": [
    "## Ejercicio 6\n",
    "\n",
    "Dado `t = (3, 5, 7)`, realiza **desempaquetado** en variables `x, y, z`.\n",
    "Intenta cambiar `t[0] = 10` y observa el error (coméntalo).\n",
    "Crea una **lista** a partir de `t`, modifica su primer elemento y vuelve a convertirla en **tupla**."
   ]
  },
  {
   "cell_type": "code",
   "execution_count": null,
   "id": "061c7e61",
   "metadata": {},
   "outputs": [],
   "source": [
    "# tu código aquí\n"
   ]
  },
  {
   "cell_type": "code",
   "execution_count": null,
   "id": "31e9eb2c",
   "metadata": {},
   "outputs": [],
   "source": [
    "t = (3,5,7)\n",
    "x,y,z = t\n",
    "print(x,y,z)\n",
    "# t[0] = 10  # Error: tuplas son inmutables\n",
    "lst = list(t)\n",
    "lst[0] = 10\n",
    "t2 = tuple(lst)\n",
    "print(t2)"
   ]
  },
  {
   "cell_type": "markdown",
   "id": "0e5ea17d",
   "metadata": {},
   "source": [
    "## Ejercicio 7\n",
    "\n",
    "A partir de la lista `L = [1, 2, 2, 3, 4, 4, 4, 5]`, crea un **set** para eliminar duplicados.\n",
    "Muestra: el tamaño original vs. el tamaño del set. ¿El número `3` está en el set?\n",
    "Calcula también la **unión** y la **intersección** entre `{1, 2, 6}` y el set creado."
   ]
  },
  {
   "cell_type": "code",
   "execution_count": null,
   "id": "b0804519",
   "metadata": {},
   "outputs": [],
   "source": [
    "# tu código aquí\n"
   ]
  },
  {
   "cell_type": "code",
   "execution_count": null,
   "id": "b0a51951",
   "metadata": {},
   "outputs": [],
   "source": [
    "L = [1,2,2,3,4,4,4,5]\n",
    "S = set(L)\n",
    "print(len(L), len(S))\n",
    "print(3 in S)\n",
    "print(S | {1,2,6})\n",
    "print(S & {1,2,6})"
   ]
  },
  {
   "cell_type": "markdown",
   "id": "d95ac779",
   "metadata": {},
   "source": [
    "## Ejercicio 8\n",
    "\n",
    "Cuenta la frecuencia de palabras en el string: `texto = \"ATG ATG TGA ATG TGA TAA\"` y\n",
    "guarda el resultado en un **diccionario** (clave = palabra, valor = conteo)."
   ]
  },
  {
   "cell_type": "code",
   "execution_count": null,
   "id": "2d69bcad",
   "metadata": {},
   "outputs": [],
   "source": [
    "# tu código aquí\n"
   ]
  },
  {
   "cell_type": "code",
   "execution_count": null,
   "id": "c42ced83",
   "metadata": {},
   "outputs": [],
   "source": [
    "texto = 'ATG ATG TGA ATG TGA TAA'\n",
    "conteo = {}\n",
    "for w in texto.split():\n",
    "    conteo[w] = conteo.get(w,0) + 1\n",
    "print(conteo)"
   ]
  },
  {
   "cell_type": "markdown",
   "id": "5f48ba7a",
   "metadata": {},
   "source": [
    "## Ejercicio 9\n",
    "\n",
    "Escribe un programa que lea una **nota** (0–100) guardada en la variable `nota`\n",
    "y clasifique: `nota >= 60` → \"Aprobado\"; si no, \"Reprobado\". Considera también un mensaje\n",
    "extra si `nota` es exactamente 100: \"Puntaje perfecto\"."
   ]
  },
  {
   "cell_type": "code",
   "execution_count": null,
   "id": "e6ecf777",
   "metadata": {},
   "outputs": [],
   "source": [
    "# tu código aquí\n"
   ]
  },
  {
   "cell_type": "code",
   "execution_count": null,
   "id": "47aee38a",
   "metadata": {},
   "outputs": [],
   "source": [
    "nota = 100\n",
    "if nota == 100:\n",
    "    print('Puntaje perfecto')\n",
    "elif nota >= 60:\n",
    "    print('Aprobado')\n",
    "else:\n",
    "    print('Reprobado')"
   ]
  },
  {
   "cell_type": "markdown",
   "id": "9e207ccc",
   "metadata": {},
   "source": [
    "## Ejercicio 10\n",
    "\n",
    "Usando un bucle `for`, suma los números **pares** desde 1 hasta `N` (incluido), donde `N = 50`.\n",
    "Muestra el resultado."
   ]
  },
  {
   "cell_type": "code",
   "execution_count": null,
   "id": "27ba74a6",
   "metadata": {},
   "outputs": [],
   "source": [
    "# tu código aquí\n"
   ]
  },
  {
   "cell_type": "code",
   "execution_count": null,
   "id": "7cbd3e6b",
   "metadata": {},
   "outputs": [],
   "source": [
    "N = 50\n",
    "suma = 0\n",
    "for i in range(2, N+1, 2):\n",
    "    suma += i\n",
    "print(suma)"
   ]
  },
  {
   "cell_type": "markdown",
   "id": "da38d1f9",
   "metadata": {},
   "source": [
    "## Ejercicio 11\n",
    "\n",
    "Genera la secuencia de **Fibonacci** usando un `while` hasta que el siguiente número sería mayor a `M = 200`.\n",
    "Guarda los generados en una lista y muéstrala."
   ]
  },
  {
   "cell_type": "code",
   "execution_count": null,
   "id": "6f6b0bf0",
   "metadata": {},
   "outputs": [],
   "source": [
    "# tu código aquí\n"
   ]
  },
  {
   "cell_type": "code",
   "execution_count": null,
   "id": "8b59c33c",
   "metadata": {},
   "outputs": [],
   "source": [
    "M = 200\n",
    "fib = [0,1]\n",
    "while fib[-1] + fib[-2] <= M:\n",
    "    fib.append(fib[-1] + fib[-2])\n",
    "print(fib)"
   ]
  },
  {
   "cell_type": "markdown",
   "id": "e71edcda",
   "metadata": {},
   "source": [
    "## Ejercicio 12\n",
    "\n",
    "Con una **comprensión de listas**, crea una lista con los **cuadrados** de los números **impares** del 1 al 20.\n",
    "Muestra la lista resultante."
   ]
  },
  {
   "cell_type": "code",
   "execution_count": null,
   "id": "ae8364bf",
   "metadata": {},
   "outputs": [],
   "source": [
    "# tu código aquí\n"
   ]
  },
  {
   "cell_type": "code",
   "execution_count": null,
   "id": "711654c2",
   "metadata": {},
   "outputs": [],
   "source": [
    "cuadrados = [x**2 for x in range(1,21) if x%2==1]\n",
    "print(cuadrados)"
   ]
  },
  {
   "cell_type": "markdown",
   "id": "c0aad328",
   "metadata": {},
   "source": [
    "## Ejercicio 13\n",
    "\n",
    "Escribe una **función** `area_circulo(r, pi=3.14159)` que retorne el área (usa el parámetro por defecto `pi`).\n",
    "Calcula el área para `r = 5`."
   ]
  },
  {
   "cell_type": "code",
   "execution_count": null,
   "id": "7109a802",
   "metadata": {},
   "outputs": [],
   "source": [
    "# tu código aquí\n"
   ]
  },
  {
   "cell_type": "code",
   "execution_count": null,
   "id": "ee129731",
   "metadata": {},
   "outputs": [],
   "source": [
    "def area_circulo(r, pi=3.14159):\n",
    "    return pi * r**2\n",
    "\n",
    "print(area_circulo(5))"
   ]
  },
  {
   "cell_type": "markdown",
   "id": "2ebaeb7b",
   "metadata": {},
   "source": [
    "## Ejercicio 14\n",
    "\n",
    "Escribe una función `suma_numeros(*args)` que retorne la suma de cualquier cantidad de números.\n",
    "Prueba con `suma_numeros(1, 2, 3, 10)` y con `suma_numeros()` (debe retornar 0)."
   ]
  },
  {
   "cell_type": "code",
   "execution_count": null,
   "id": "1ad4399a",
   "metadata": {},
   "outputs": [],
   "source": [
    "# tu código aquí\n"
   ]
  },
  {
   "cell_type": "code",
   "execution_count": null,
   "id": "4a84053c",
   "metadata": {},
   "outputs": [],
   "source": [
    "def suma_numeros(*args):\n",
    "    return sum(args)\n",
    "\n",
    "print(suma_numeros(1,2,3,10))\n",
    "print(suma_numeros())"
   ]
  },
  {
   "cell_type": "markdown",
   "id": "0b99a2e5",
   "metadata": {},
   "source": [
    "## Ejercicio 15\n",
    "\n",
    "Dada la lista `valores = [\"10\", \"x\", \"20\", \"3.5\", \"-2\", \"y\"]`, escribe código que convierta cada elemento a **float**\n",
    "si es posible; si no, lo **ignore** sin que el programa se caiga (usa `try/except`). Luego muestra la **suma** de los convertidos."
   ]
  },
  {
   "cell_type": "code",
   "execution_count": null,
   "id": "4f01a8ad",
   "metadata": {},
   "outputs": [],
   "source": [
    "# tu código aquí\n"
   ]
  },
  {
   "cell_type": "code",
   "execution_count": null,
   "id": "4505e6a7",
   "metadata": {},
   "outputs": [],
   "source": [
    "valores = [\"10\", \"x\", \"20\", \"3.5\", \"-2\", \"y\"]\n",
    "nums = []\n",
    "for v in valores:\n",
    "    try:\n",
    "        nums.append(float(v))\n",
    "    except:\n",
    "        pass\n",
    "print(sum(nums))"
   ]
  }
 ],
 "metadata": {
  "kernelspec": {
   "display_name": "Python 3",
   "language": "python",
   "name": "python3"
  },
  "language_info": {
   "name": "python",
   "pygments_lexer": "ipython3"
  }
 },
 "nbformat": 4,
 "nbformat_minor": 5
}
