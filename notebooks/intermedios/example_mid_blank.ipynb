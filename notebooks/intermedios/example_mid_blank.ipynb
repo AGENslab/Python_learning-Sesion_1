{
 "cells": [
  {
   "cell_type": "markdown",
   "id": "59f76acc",
   "metadata": {},
   "source": [
    "[![Open In Colab](https://colab.research.google.com/assets/colab-badge.svg)](https://colab.research.google.com/github/AGENslab/Python_learning-Sesion_1/main/notebooks/intermedios/example_mid_blank.ipynb)"
   ]
  },
  {
   "cell_type": "markdown",
   "id": "7dffcc15",
   "metadata": {},
   "source": [
    "# 🧠 Ejercicios de pensamiento lógico con funciones (10 problemas)\n",
    "Cada ejercicio pide **definir una función** y probarla con ejemplos.\n",
    "\n",
    "**Formato sugerido:**\n",
    "```python\n",
    "def mi_funcion(...):\n",
    "    # implementación\n",
    "    return ...\n",
    "```\n",
    "Escribe tu solución en la celda bajo cada enunciado.\n"
   ]
  },
  {
   "cell_type": "markdown",
   "id": "6de8498c",
   "metadata": {},
   "source": [
    "## 1) Invertir palabra\n",
    "Escribe `invertir_palabra(p)` que retorne la palabra `p` invertida.\n",
    "\n",
    "**Ejemplo:** `invertir_palabra('genoma') -> 'amoneg'`"
   ]
  },
  {
   "cell_type": "code",
   "execution_count": null,
   "id": "00371b2d",
   "metadata": {},
   "outputs": [],
   "source": [
    "# tu código aquí\n"
   ]
  },
  {
   "cell_type": "markdown",
   "id": "36a8f3a4",
   "metadata": {},
   "source": [
    "## 2) Conteo de letras\n",
    "Escribe `conteo_letras(p)` que retorne un **diccionario** con la frecuencia de cada letra en `p`.\n",
    "Ignora espacios y pasa todo a minúsculas.\n",
    "\n",
    "**Ejemplo:** `conteo_letras('Aa bb') -> {'a': 2, 'b': 2}`"
   ]
  },
  {
   "cell_type": "code",
   "execution_count": null,
   "id": "c59c846a",
   "metadata": {},
   "outputs": [],
   "source": [
    "# tu código aquí\n"
   ]
  },
  {
   "cell_type": "markdown",
   "id": "9a3835f8",
   "metadata": {},
   "source": [
    "## 3) Número a palabras (1–100)\n",
    "Escribe `numero_a_palabras(n)` que convierta un entero `n` en el rango **1–100** a su representación en palabras **en español**.\n",
    "Considera formas como `veintiuno`, `treinta y dos`, `cien`.\n",
    "\n",
    "**Ejemplo:** `numero_a_palabras(42) -> 'cuarenta y dos'`"
   ]
  },
  {
   "cell_type": "code",
   "execution_count": null,
   "id": "8e079ab7",
   "metadata": {},
   "outputs": [],
   "source": [
    "# tu código aquí\n"
   ]
  },
  {
   "cell_type": "markdown",
   "id": "4e33fa2a",
   "metadata": {},
   "source": [
    "## 4) Palíndromo (ignorando tildes, espacios y signos)\n",
    "Escribe `es_palindromo(frase)` que retorne `True` si `frase` es palíndroma, ignorando **tildes**, espacios y puntuación.\n",
    "**Ejemplo:** `es_palindromo('Anita lava la tina') -> True`"
   ]
  },
  {
   "cell_type": "code",
   "execution_count": null,
   "id": "1f35c633",
   "metadata": {},
   "outputs": [],
   "source": [
    "# tu código aquí\n"
   ]
  },
  {
   "cell_type": "markdown",
   "id": "e4b32f98",
   "metadata": {},
   "source": [
    "## 5) Anagramas\n",
    "Escribe `son_anagramas(a, b)` que retorne `True` si `a` y `b` son anagramas (ignora espacios y mayúsculas/minúsculas)."
   ]
  },
  {
   "cell_type": "code",
   "execution_count": null,
   "id": "81957e60",
   "metadata": {},
   "outputs": [],
   "source": [
    "# tu código aquí\n"
   ]
  },
  {
   "cell_type": "markdown",
   "id": "4495c997",
   "metadata": {},
   "source": [
    "## 6) Conteo de vocales y consonantes\n",
    "Escribe `vocales_consonantes(p)` que retorne una tupla `(vocales, consonantes)` con los conteos en `p` (solo letras)."
   ]
  },
  {
   "cell_type": "code",
   "execution_count": null,
   "id": "9a43b420",
   "metadata": {},
   "outputs": [],
   "source": [
    "# tu código aquí\n"
   ]
  },
  {
   "cell_type": "markdown",
   "id": "49a0fe81",
   "metadata": {},
   "source": [
    "## 7) Compresión run-length\n",
    "Escribe `rle_encode(s)` que comprima `s` como pares `carácter+conteo`.\n",
    "**Ejemplo:** `rle_encode('aaabbc') -> 'a3b2c1'`"
   ]
  },
  {
   "cell_type": "code",
   "execution_count": null,
   "id": "9b6e1efd",
   "metadata": {},
   "outputs": [],
   "source": [
    "# tu código aquí\n"
   ]
  },
  {
   "cell_type": "markdown",
   "id": "18a1715a",
   "metadata": {},
   "source": [
    "## 8) Entero a romano (1–3999)\n",
    "Escribe `a_romano(n)` que convierta un entero `n` (1–3999) a números romanos.\n",
    "**Ejemplo:** `a_romano(944) -> 'CMXLIV'`"
   ]
  },
  {
   "cell_type": "code",
   "execution_count": null,
   "id": "618cc6db",
   "metadata": {},
   "outputs": [],
   "source": [
    "# tu código aquí\n"
   ]
  },
  {
   "cell_type": "markdown",
   "id": "b8d79bda",
   "metadata": {},
   "source": [
    "## 9) Título con excepciones\n",
    "Escribe `titulo_estilo(s)` que ponga en Mayúscula la primera letra de cada palabra **excepto** conectores cortos\n",
    "(`de`, `la`, `y`, `o`, `en`, `del`, `al`, `a`), salvo que sea la **primera palabra**.\n",
    "**Ejemplo:** `titulo_estilo('introducción a la biología de sistemas') -> 'Introducción a la Biología de Sistemas'`"
   ]
  },
  {
   "cell_type": "code",
   "execution_count": null,
   "id": "04fe2167",
   "metadata": {},
   "outputs": [],
   "source": [
    "# tu código aquí\n"
   ]
  },
  {
   "cell_type": "markdown",
   "id": "9d0d1938",
   "metadata": {},
   "source": [
    "## 10) FizzBuzz personalizado\n",
    "Escribe `fizzbuzz(n, a=3, b=5)` que retorne una lista de 1..n donde múltiplos de `a` se reemplazan por `'Fizz'`,\n",
    "múltiplos de `b` por `'Buzz'` y múltiplos de ambos por `'FizzBuzz'`.\n",
    "**Ejemplo:** `fizzbuzz(15)`"
   ]
  },
  {
   "cell_type": "code",
   "execution_count": null,
   "id": "861f83cb",
   "metadata": {},
   "outputs": [],
   "source": [
    "# tu código aquí\n"
   ]
  }
 ],
 "metadata": {
  "kernelspec": {
   "display_name": "Python 3",
   "language": "python",
   "name": "python3"
  },
  "language_info": {
   "name": "python",
   "pygments_lexer": "ipython3"
  }
 },
 "nbformat": 4,
 "nbformat_minor": 5
}
