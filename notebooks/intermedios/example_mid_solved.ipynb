{
 "cells": [
  {
   "cell_type": "markdown",
   "id": "5b66ca6d",
   "metadata": {},
   "source": [
    "[![Open In Colab](https://colab.research.google.com/assets/colab-badge.svg)](https://colab.research.google.com/github/AGENslab/Python_learning-Sesion_1/main/notebooks/intermedios/example_mid_solved.ipynb)"
   ]
  },
  {
   "cell_type": "markdown",
   "id": "e8c70f6f",
   "metadata": {},
   "source": [
    "# 🧠 Ejercicios de pensamiento lógico con funciones (10 problemas)\n",
    "Cada ejercicio pide **definir una función** y probarla con ejemplos.\n",
    "\n",
    "**Formato sugerido:**\n",
    "```python\n",
    "def mi_funcion(...):\n",
    "    # implementación\n",
    "    return ...\n",
    "```\n",
    "Escribe tu solución en la celda bajo cada enunciado.\n"
   ]
  },
  {
   "cell_type": "markdown",
   "id": "d1555aab",
   "metadata": {},
   "source": [
    "## 1) Invertir palabra\n",
    "Escribe `invertir_palabra(p)` que retorne la palabra `p` invertida.\n",
    "\n",
    "**Ejemplo:** `invertir_palabra('genoma') -> 'amoneg'`"
   ]
  },
  {
   "cell_type": "code",
   "execution_count": null,
   "id": "98580ba8",
   "metadata": {},
   "outputs": [],
   "source": [
    "def invertir_palabra(p: str) -> str:\n",
    "    return p[::-1]\n",
    "\n",
    "print(invertir_palabra('genoma'))"
   ]
  },
  {
   "cell_type": "markdown",
   "id": "0071de8a",
   "metadata": {},
   "source": [
    "## 2) Conteo de letras\n",
    "Escribe `conteo_letras(p)` que retorne un **diccionario** con la frecuencia de cada letra en `p`.\n",
    "Ignora espacios y pasa todo a minúsculas.\n",
    "\n",
    "**Ejemplo:** `conteo_letras('Aa bb') -> {'a': 2, 'b': 2}`"
   ]
  },
  {
   "cell_type": "code",
   "execution_count": null,
   "id": "466e8222",
   "metadata": {},
   "outputs": [],
   "source": [
    "def conteo_letras(p: str) -> dict:\n",
    "    p = p.lower()\n",
    "    conteo = {}\n",
    "    for ch in p:\n",
    "        if ch.isspace():\n",
    "            continue\n",
    "        if ch in conteo:\n",
    "            conteo[ch] += 1\n",
    "        else:\n",
    "            conteo[ch] = 1\n",
    "    return conteo\n",
    "\n",
    "print(conteo_letras('Aa bb'))"
   ]
  },
  {
   "cell_type": "markdown",
   "id": "7c0a229a",
   "metadata": {},
   "source": [
    "## 3) Número a palabras (1–100)\n",
    "Escribe `numero_a_palabras(n)` que convierta un entero `n` en el rango **1–100** a su representación en palabras **en español**.\n",
    "Considera formas como `veintiuno`, `treinta y dos`, `cien`.\n",
    "\n",
    "**Ejemplo:** `numero_a_palabras(42) -> 'cuarenta y dos'`"
   ]
  },
  {
   "cell_type": "code",
   "execution_count": null,
   "id": "a88ba350",
   "metadata": {},
   "outputs": [],
   "source": [
    "def numero_a_palabras(n: int) -> str:\n",
    "    if not (1 <= n <= 100):\n",
    "        raise ValueError('n debe estar entre 1 y 100')\n",
    "    unidades = {\n",
    "        0:'',1:'uno',2:'dos',3:'tres',4:'cuatro',5:'cinco',6:'seis',7:'siete',8:'ocho',9:'nueve',\n",
    "        10:'diez',11:'once',12:'doce',13:'trece',14:'catorce',15:'quince'\n",
    "    }\n",
    "    decenas = {20:'veinte',30:'treinta',40:'cuarenta',50:'cincuenta',60:'sesenta',70:'setenta',80:'ochenta',90:'noventa'}\n",
    "    if n <= 15:\n",
    "        return unidades[n]\n",
    "    if 16 <= n <= 19:\n",
    "        return 'dieci' + unidades[n-10]\n",
    "    if n == 20:\n",
    "        return 'veinte'\n",
    "    if 21 <= n <= 29:\n",
    "        especiales = {22:'veintidos',23:'veintitres',26:'veintiseis'}\n",
    "        if n in especiales:\n",
    "            return especiales[n]\n",
    "        return 'veinti' + unidades[n-20]\n",
    "    if 30 <= n <= 99:\n",
    "        d = (n//10)*10\n",
    "        u = n % 10\n",
    "        return decenas[d] if u==0 else decenas[d] + ' y ' + unidades[u]\n",
    "    return 'cien'\n",
    "\n",
    "print(numero_a_palabras(42))\n",
    "print(numero_a_palabras(100))"
   ]
  },
  {
   "cell_type": "markdown",
   "id": "0e4b1ac9",
   "metadata": {},
   "source": [
    "## 4) Palíndromo (ignorando tildes, espacios y signos)\n",
    "Escribe `es_palindromo(frase)` que retorne `True` si `frase` es palíndroma, ignorando **tildes**, espacios y puntuación.\n",
    "**Ejemplo:** `es_palindromo('Anita lava la tina') -> True`"
   ]
  },
  {
   "cell_type": "code",
   "execution_count": null,
   "id": "a64a99ae",
   "metadata": {},
   "outputs": [],
   "source": [
    "def quitar_tildes_y_no_alnum(s: str) -> str:\n",
    "    mapa = {\n",
    "        'á':'a','é':'e','í':'i','ó':'o','ú':'u','ü':'u',\n",
    "        'Á':'a','É':'e','Í':'i','Ó':'o','Ú':'u','Ü':'u'\n",
    "    }\n",
    "    t = ''\n",
    "    for ch in s:\n",
    "        ch2 = mapa.get(ch, ch)\n",
    "        if ch2.isalnum():\n",
    "            t += ch2.lower()\n",
    "    return t\n",
    "def es_palindromo(frase: str) -> bool:\n",
    "    t = quitar_tildes_y_no_alnum(frase)\n",
    "    return t == t[::-1]\n",
    "\n",
    "print(es_palindromo('Anita lava la tina'))"
   ]
  },
  {
   "cell_type": "markdown",
   "id": "904412c6",
   "metadata": {},
   "source": [
    "## 5) Anagramas\n",
    "Escribe `son_anagramas(a, b)` que retorne `True` si `a` y `b` son anagramas (ignora espacios y mayúsculas/minúsculas)."
   ]
  },
  {
   "cell_type": "code",
   "execution_count": null,
   "id": "72f1eb2b",
   "metadata": {},
   "outputs": [],
   "source": [
    "def limpiar_alpha(s: str) -> str:\n",
    "    t = ''\n",
    "    for ch in s:\n",
    "        if ch.isalpha():\n",
    "            t += ch.lower()\n",
    "    return t\n",
    "def son_anagramas(a: str, b: str) -> bool:\n",
    "    a, b = limpiar_alpha(a), limpiar_alpha(b)\n",
    "    if len(a) != len(b):\n",
    "        return False\n",
    "    # conteo manual\n",
    "    conta = {}\n",
    "    for ch in a:\n",
    "        conta[ch] = conta.get(ch, 0) + 1\n",
    "    for ch in b:\n",
    "        if ch not in conta:\n",
    "            return False\n",
    "        conta[ch] -= 1\n",
    "        if conta[ch] < 0:\n",
    "            return False\n",
    "    return True\n",
    "\n",
    "print(son_anagramas('Roma', 'Amor'))"
   ]
  },
  {
   "cell_type": "markdown",
   "id": "4ee4cd5a",
   "metadata": {},
   "source": [
    "## 6) Conteo de vocales y consonantes\n",
    "Escribe `vocales_consonantes(p)` que retorne una tupla `(vocales, consonantes)` con los conteos en `p` (solo letras)."
   ]
  },
  {
   "cell_type": "code",
   "execution_count": null,
   "id": "2267f581",
   "metadata": {},
   "outputs": [],
   "source": [
    "def vocales_consonantes(p: str) -> tuple:\n",
    "    vocales_set = set('aeiouáéíóúüAEIOUÁÉÍÓÚÜ')\n",
    "    v = 0\n",
    "    c = 0\n",
    "    for ch in p:\n",
    "        if ch.isalpha():\n",
    "            if ch in vocales_set:\n",
    "                v += 1\n",
    "            else:\n",
    "                c += 1\n",
    "    return v, c\n",
    "\n",
    "print(vocales_consonantes('Bioinformática'))"
   ]
  },
  {
   "cell_type": "markdown",
   "id": "dcc7596f",
   "metadata": {},
   "source": [
    "## 7) Compresión run-length\n",
    "Escribe `rle_encode(s)` que comprima `s` como pares `carácter+conteo`.\n",
    "**Ejemplo:** `rle_encode('aaabbc') -> 'a3b2c1'`"
   ]
  },
  {
   "cell_type": "code",
   "execution_count": null,
   "id": "35d56c52",
   "metadata": {},
   "outputs": [],
   "source": [
    "def rle_encode(s: str) -> str:\n",
    "    if s == '':\n",
    "        return ''\n",
    "    out = ''\n",
    "    cnt = 1\n",
    "    for i in range(1, len(s)):\n",
    "        if s[i] == s[i-1]:\n",
    "            cnt += 1\n",
    "        else:\n",
    "            out += s[i-1] + str(cnt)\n",
    "            cnt = 1\n",
    "    out += s[-1] + str(cnt)\n",
    "    return out\n",
    "\n",
    "print(rle_encode('aaabbc'))"
   ]
  },
  {
   "cell_type": "markdown",
   "id": "b440c5d7",
   "metadata": {},
   "source": [
    "## 8) Entero a romano (1–3999)\n",
    "Escribe `a_romano(n)` que convierta un entero `n` (1–3999) a números romanos.\n",
    "**Ejemplo:** `a_romano(944) -> 'CMXLIV'`"
   ]
  },
  {
   "cell_type": "code",
   "execution_count": null,
   "id": "885f255a",
   "metadata": {},
   "outputs": [],
   "source": [
    "def a_romano(n: int) -> str:\n",
    "    if not (1 <= n <= 3999):\n",
    "        raise ValueError('n fuera de rango')\n",
    "    valores = [\n",
    "        (1000,'M'),(900,'CM'),(500,'D'),(400,'CD'),\n",
    "        (100,'C'),(90,'XC'),(50,'L'),(40,'XL'),\n",
    "        (10,'X'),(9,'IX'),(5,'V'),(4,'IV'),(1,'I')\n",
    "    ]\n",
    "    res = ''\n",
    "    for val, sym in valores:\n",
    "        while n >= val:\n",
    "            res += sym\n",
    "            n -= val\n",
    "    return res\n",
    "\n",
    "print(a_romano(944))"
   ]
  },
  {
   "cell_type": "markdown",
   "id": "347986e5",
   "metadata": {},
   "source": [
    "## 9) Título con excepciones\n",
    "Escribe `titulo_estilo(s)` que ponga en Mayúscula la primera letra de cada palabra **excepto** conectores cortos\n",
    "(`de`, `la`, `y`, `o`, `en`, `del`, `al`, `a`), salvo que sea la **primera palabra**.\n",
    "**Ejemplo:** `titulo_estilo('introducción a la biología de sistemas') -> 'Introducción a la Biología de Sistemas'`"
   ]
  },
  {
   "cell_type": "code",
   "execution_count": null,
   "id": "a3248fa1",
   "metadata": {},
   "outputs": [],
   "source": [
    "def titulo_estilo(s: str) -> str:\n",
    "    excepciones = {'de','la','y','o','en','del','al','a'}\n",
    "    palabras = s.split()\n",
    "    res = []\n",
    "    for i, p in enumerate(palabras):\n",
    "        pl = p.lower()\n",
    "        if i == 0 or pl not in excepciones:\n",
    "            res.append(pl.capitalize())\n",
    "        else:\n",
    "            res.append(pl)\n",
    "    return ' '.join(res)\n",
    "\n",
    "print(titulo_estilo('introducción a la biología de sistemas'))"
   ]
  },
  {
   "cell_type": "markdown",
   "id": "61d13d9d",
   "metadata": {},
   "source": [
    "## 10) FizzBuzz personalizado\n",
    "Escribe `fizzbuzz(n, a=3, b=5)` que retorne una lista de 1..n donde múltiplos de `a` se reemplazan por `'Fizz'`,\n",
    "múltiplos de `b` por `'Buzz'` y múltiplos de ambos por `'FizzBuzz'`.\n",
    "**Ejemplo:** `fizzbuzz(15)`"
   ]
  },
  {
   "cell_type": "code",
   "execution_count": null,
   "id": "b7480fd9",
   "metadata": {},
   "outputs": [],
   "source": [
    "def fizzbuzz(n: int, a: int = 3, b: int = 5):\n",
    "    out = []\n",
    "    for i in range(1, n+1):\n",
    "        fb = ''\n",
    "        if i % a == 0:\n",
    "            fb += 'Fizz'\n",
    "        if i % b == 0:\n",
    "            fb += 'Buzz'\n",
    "        if fb == '':\n",
    "            out.append(i)\n",
    "        else:\n",
    "            out.append(fb)\n",
    "    return out\n",
    "\n",
    "print(fizzbuzz(15))"
   ]
  }
 ],
 "metadata": {
  "kernelspec": {
   "display_name": "Python 3",
   "language": "python",
   "name": "python3"
  },
  "language_info": {
   "name": "python",
   "pygments_lexer": "ipython3"
  }
 },
 "nbformat": 4,
 "nbformat_minor": 5
}
